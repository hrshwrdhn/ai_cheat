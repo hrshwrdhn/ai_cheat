{
  "nbformat": 4,
  "nbformat_minor": 0,
  "metadata": {
    "colab": {
      "name": "logistic_reg.ipynb",
      "provenance": [],
      "authorship_tag": "ABX9TyPijhtVLRazYnWSLs0yNdpz",
      "include_colab_link": true
    },
    "kernelspec": {
      "name": "python3",
      "display_name": "Python 3"
    },
    "widgets": {
      "application/vnd.jupyter.widget-state+json": {
        "af60b0c06ff2478a961c7d05fb26e836": {
          "model_module": "@jupyter-widgets/controls",
          "model_name": "HBoxModel",
          "state": {
            "_view_name": "HBoxView",
            "_dom_classes": [],
            "_model_name": "HBoxModel",
            "_view_module": "@jupyter-widgets/controls",
            "_model_module_version": "1.5.0",
            "_view_count": null,
            "_view_module_version": "1.5.0",
            "box_style": "",
            "layout": "IPY_MODEL_78ce0b4f957d4ffea80c876837f8c777",
            "_model_module": "@jupyter-widgets/controls",
            "children": [
              "IPY_MODEL_7592cf7d161941d9b1ea423216d7dfe7",
              "IPY_MODEL_97f5efc5ca29402789241de869ce4ba8"
            ]
          }
        },
        "78ce0b4f957d4ffea80c876837f8c777": {
          "model_module": "@jupyter-widgets/base",
          "model_name": "LayoutModel",
          "state": {
            "_view_name": "LayoutView",
            "grid_template_rows": null,
            "right": null,
            "justify_content": null,
            "_view_module": "@jupyter-widgets/base",
            "overflow": null,
            "_model_module_version": "1.2.0",
            "_view_count": null,
            "flex_flow": null,
            "width": null,
            "min_width": null,
            "border": null,
            "align_items": null,
            "bottom": null,
            "_model_module": "@jupyter-widgets/base",
            "top": null,
            "grid_column": null,
            "overflow_y": null,
            "overflow_x": null,
            "grid_auto_flow": null,
            "grid_area": null,
            "grid_template_columns": null,
            "flex": null,
            "_model_name": "LayoutModel",
            "justify_items": null,
            "grid_row": null,
            "max_height": null,
            "align_content": null,
            "visibility": null,
            "align_self": null,
            "height": null,
            "min_height": null,
            "padding": null,
            "grid_auto_rows": null,
            "grid_gap": null,
            "max_width": null,
            "order": null,
            "_view_module_version": "1.2.0",
            "grid_template_areas": null,
            "object_position": null,
            "object_fit": null,
            "grid_auto_columns": null,
            "margin": null,
            "display": null,
            "left": null
          }
        },
        "7592cf7d161941d9b1ea423216d7dfe7": {
          "model_module": "@jupyter-widgets/controls",
          "model_name": "FloatProgressModel",
          "state": {
            "_view_name": "ProgressView",
            "style": "IPY_MODEL_6ed206ce2d0145f7b696cb48fd035e38",
            "_dom_classes": [],
            "description": "",
            "_model_name": "FloatProgressModel",
            "bar_style": "success",
            "max": 9742279,
            "_view_module": "@jupyter-widgets/controls",
            "_model_module_version": "1.5.0",
            "value": 9742279,
            "_view_count": null,
            "_view_module_version": "1.5.0",
            "orientation": "horizontal",
            "min": 0,
            "description_tooltip": null,
            "_model_module": "@jupyter-widgets/controls",
            "layout": "IPY_MODEL_a2217ac00d2e4dea87325816e050bf6d"
          }
        },
        "97f5efc5ca29402789241de869ce4ba8": {
          "model_module": "@jupyter-widgets/controls",
          "model_name": "HTMLModel",
          "state": {
            "_view_name": "HTMLView",
            "style": "IPY_MODEL_00f7f5e8ccdc487cbc20139f68bd575a",
            "_dom_classes": [],
            "description": "",
            "_model_name": "HTMLModel",
            "placeholder": "​",
            "_view_module": "@jupyter-widgets/controls",
            "_model_module_version": "1.5.0",
            "value": " 9742336/? [00:19&lt;00:00, 487524.03it/s]",
            "_view_count": null,
            "_view_module_version": "1.5.0",
            "description_tooltip": null,
            "_model_module": "@jupyter-widgets/controls",
            "layout": "IPY_MODEL_ac1d3f67c9de4365943350547e94b431"
          }
        },
        "6ed206ce2d0145f7b696cb48fd035e38": {
          "model_module": "@jupyter-widgets/controls",
          "model_name": "ProgressStyleModel",
          "state": {
            "_view_name": "StyleView",
            "_model_name": "ProgressStyleModel",
            "description_width": "initial",
            "_view_module": "@jupyter-widgets/base",
            "_model_module_version": "1.5.0",
            "_view_count": null,
            "_view_module_version": "1.2.0",
            "bar_color": null,
            "_model_module": "@jupyter-widgets/controls"
          }
        },
        "a2217ac00d2e4dea87325816e050bf6d": {
          "model_module": "@jupyter-widgets/base",
          "model_name": "LayoutModel",
          "state": {
            "_view_name": "LayoutView",
            "grid_template_rows": null,
            "right": null,
            "justify_content": null,
            "_view_module": "@jupyter-widgets/base",
            "overflow": null,
            "_model_module_version": "1.2.0",
            "_view_count": null,
            "flex_flow": null,
            "width": null,
            "min_width": null,
            "border": null,
            "align_items": null,
            "bottom": null,
            "_model_module": "@jupyter-widgets/base",
            "top": null,
            "grid_column": null,
            "overflow_y": null,
            "overflow_x": null,
            "grid_auto_flow": null,
            "grid_area": null,
            "grid_template_columns": null,
            "flex": null,
            "_model_name": "LayoutModel",
            "justify_items": null,
            "grid_row": null,
            "max_height": null,
            "align_content": null,
            "visibility": null,
            "align_self": null,
            "height": null,
            "min_height": null,
            "padding": null,
            "grid_auto_rows": null,
            "grid_gap": null,
            "max_width": null,
            "order": null,
            "_view_module_version": "1.2.0",
            "grid_template_areas": null,
            "object_position": null,
            "object_fit": null,
            "grid_auto_columns": null,
            "margin": null,
            "display": null,
            "left": null
          }
        },
        "00f7f5e8ccdc487cbc20139f68bd575a": {
          "model_module": "@jupyter-widgets/controls",
          "model_name": "DescriptionStyleModel",
          "state": {
            "_view_name": "StyleView",
            "_model_name": "DescriptionStyleModel",
            "description_width": "",
            "_view_module": "@jupyter-widgets/base",
            "_model_module_version": "1.5.0",
            "_view_count": null,
            "_view_module_version": "1.2.0",
            "_model_module": "@jupyter-widgets/controls"
          }
        },
        "ac1d3f67c9de4365943350547e94b431": {
          "model_module": "@jupyter-widgets/base",
          "model_name": "LayoutModel",
          "state": {
            "_view_name": "LayoutView",
            "grid_template_rows": null,
            "right": null,
            "justify_content": null,
            "_view_module": "@jupyter-widgets/base",
            "overflow": null,
            "_model_module_version": "1.2.0",
            "_view_count": null,
            "flex_flow": null,
            "width": null,
            "min_width": null,
            "border": null,
            "align_items": null,
            "bottom": null,
            "_model_module": "@jupyter-widgets/base",
            "top": null,
            "grid_column": null,
            "overflow_y": null,
            "overflow_x": null,
            "grid_auto_flow": null,
            "grid_area": null,
            "grid_template_columns": null,
            "flex": null,
            "_model_name": "LayoutModel",
            "justify_items": null,
            "grid_row": null,
            "max_height": null,
            "align_content": null,
            "visibility": null,
            "align_self": null,
            "height": null,
            "min_height": null,
            "padding": null,
            "grid_auto_rows": null,
            "grid_gap": null,
            "max_width": null,
            "order": null,
            "_view_module_version": "1.2.0",
            "grid_template_areas": null,
            "object_position": null,
            "object_fit": null,
            "grid_auto_columns": null,
            "margin": null,
            "display": null,
            "left": null
          }
        },
        "475925faa2da4f7f884cffdfcba80236": {
          "model_module": "@jupyter-widgets/controls",
          "model_name": "HBoxModel",
          "state": {
            "_view_name": "HBoxView",
            "_dom_classes": [],
            "_model_name": "HBoxModel",
            "_view_module": "@jupyter-widgets/controls",
            "_model_module_version": "1.5.0",
            "_view_count": null,
            "_view_module_version": "1.5.0",
            "box_style": "",
            "layout": "IPY_MODEL_8c7765989ccd4c719c3178d527430b5f",
            "_model_module": "@jupyter-widgets/controls",
            "children": [
              "IPY_MODEL_9c03d50531574cf694fdba3be7c07729",
              "IPY_MODEL_c96065c5a36545358810d220dc0a0688"
            ]
          }
        },
        "8c7765989ccd4c719c3178d527430b5f": {
          "model_module": "@jupyter-widgets/base",
          "model_name": "LayoutModel",
          "state": {
            "_view_name": "LayoutView",
            "grid_template_rows": null,
            "right": null,
            "justify_content": null,
            "_view_module": "@jupyter-widgets/base",
            "overflow": null,
            "_model_module_version": "1.2.0",
            "_view_count": null,
            "flex_flow": null,
            "width": null,
            "min_width": null,
            "border": null,
            "align_items": null,
            "bottom": null,
            "_model_module": "@jupyter-widgets/base",
            "top": null,
            "grid_column": null,
            "overflow_y": null,
            "overflow_x": null,
            "grid_auto_flow": null,
            "grid_area": null,
            "grid_template_columns": null,
            "flex": null,
            "_model_name": "LayoutModel",
            "justify_items": null,
            "grid_row": null,
            "max_height": null,
            "align_content": null,
            "visibility": null,
            "align_self": null,
            "height": null,
            "min_height": null,
            "padding": null,
            "grid_auto_rows": null,
            "grid_gap": null,
            "max_width": null,
            "order": null,
            "_view_module_version": "1.2.0",
            "grid_template_areas": null,
            "object_position": null,
            "object_fit": null,
            "grid_auto_columns": null,
            "margin": null,
            "display": null,
            "left": null
          }
        },
        "9c03d50531574cf694fdba3be7c07729": {
          "model_module": "@jupyter-widgets/controls",
          "model_name": "FloatProgressModel",
          "state": {
            "_view_name": "ProgressView",
            "style": "IPY_MODEL_93c1b4865bb2444f820190f22570180c",
            "_dom_classes": [],
            "description": "",
            "_model_name": "FloatProgressModel",
            "bar_style": "success",
            "max": 526800,
            "_view_module": "@jupyter-widgets/controls",
            "_model_module_version": "1.5.0",
            "value": 526800,
            "_view_count": null,
            "_view_module_version": "1.5.0",
            "orientation": "horizontal",
            "min": 0,
            "description_tooltip": null,
            "_model_module": "@jupyter-widgets/controls",
            "layout": "IPY_MODEL_19e5083cc3264083ab671325fafc1773"
          }
        },
        "c96065c5a36545358810d220dc0a0688": {
          "model_module": "@jupyter-widgets/controls",
          "model_name": "HTMLModel",
          "state": {
            "_view_name": "HTMLView",
            "style": "IPY_MODEL_85bcaf4f5e18456299df191fda916e7c",
            "_dom_classes": [],
            "description": "",
            "_model_name": "HTMLModel",
            "placeholder": "​",
            "_view_module": "@jupyter-widgets/controls",
            "_model_module_version": "1.5.0",
            "value": " 527360/? [00:18&lt;00:00, 28682.29it/s]",
            "_view_count": null,
            "_view_module_version": "1.5.0",
            "description_tooltip": null,
            "_model_module": "@jupyter-widgets/controls",
            "layout": "IPY_MODEL_f207676e88be4debab98f49d9b28975f"
          }
        },
        "93c1b4865bb2444f820190f22570180c": {
          "model_module": "@jupyter-widgets/controls",
          "model_name": "ProgressStyleModel",
          "state": {
            "_view_name": "StyleView",
            "_model_name": "ProgressStyleModel",
            "description_width": "initial",
            "_view_module": "@jupyter-widgets/base",
            "_model_module_version": "1.5.0",
            "_view_count": null,
            "_view_module_version": "1.2.0",
            "bar_color": null,
            "_model_module": "@jupyter-widgets/controls"
          }
        },
        "19e5083cc3264083ab671325fafc1773": {
          "model_module": "@jupyter-widgets/base",
          "model_name": "LayoutModel",
          "state": {
            "_view_name": "LayoutView",
            "grid_template_rows": null,
            "right": null,
            "justify_content": null,
            "_view_module": "@jupyter-widgets/base",
            "overflow": null,
            "_model_module_version": "1.2.0",
            "_view_count": null,
            "flex_flow": null,
            "width": null,
            "min_width": null,
            "border": null,
            "align_items": null,
            "bottom": null,
            "_model_module": "@jupyter-widgets/base",
            "top": null,
            "grid_column": null,
            "overflow_y": null,
            "overflow_x": null,
            "grid_auto_flow": null,
            "grid_area": null,
            "grid_template_columns": null,
            "flex": null,
            "_model_name": "LayoutModel",
            "justify_items": null,
            "grid_row": null,
            "max_height": null,
            "align_content": null,
            "visibility": null,
            "align_self": null,
            "height": null,
            "min_height": null,
            "padding": null,
            "grid_auto_rows": null,
            "grid_gap": null,
            "max_width": null,
            "order": null,
            "_view_module_version": "1.2.0",
            "grid_template_areas": null,
            "object_position": null,
            "object_fit": null,
            "grid_auto_columns": null,
            "margin": null,
            "display": null,
            "left": null
          }
        },
        "85bcaf4f5e18456299df191fda916e7c": {
          "model_module": "@jupyter-widgets/controls",
          "model_name": "DescriptionStyleModel",
          "state": {
            "_view_name": "StyleView",
            "_model_name": "DescriptionStyleModel",
            "description_width": "",
            "_view_module": "@jupyter-widgets/base",
            "_model_module_version": "1.5.0",
            "_view_count": null,
            "_view_module_version": "1.2.0",
            "_model_module": "@jupyter-widgets/controls"
          }
        },
        "f207676e88be4debab98f49d9b28975f": {
          "model_module": "@jupyter-widgets/base",
          "model_name": "LayoutModel",
          "state": {
            "_view_name": "LayoutView",
            "grid_template_rows": null,
            "right": null,
            "justify_content": null,
            "_view_module": "@jupyter-widgets/base",
            "overflow": null,
            "_model_module_version": "1.2.0",
            "_view_count": null,
            "flex_flow": null,
            "width": null,
            "min_width": null,
            "border": null,
            "align_items": null,
            "bottom": null,
            "_model_module": "@jupyter-widgets/base",
            "top": null,
            "grid_column": null,
            "overflow_y": null,
            "overflow_x": null,
            "grid_auto_flow": null,
            "grid_area": null,
            "grid_template_columns": null,
            "flex": null,
            "_model_name": "LayoutModel",
            "justify_items": null,
            "grid_row": null,
            "max_height": null,
            "align_content": null,
            "visibility": null,
            "align_self": null,
            "height": null,
            "min_height": null,
            "padding": null,
            "grid_auto_rows": null,
            "grid_gap": null,
            "max_width": null,
            "order": null,
            "_view_module_version": "1.2.0",
            "grid_template_areas": null,
            "object_position": null,
            "object_fit": null,
            "grid_auto_columns": null,
            "margin": null,
            "display": null,
            "left": null
          }
        }
      }
    }
  },
  "cells": [
    {
      "cell_type": "markdown",
      "metadata": {
        "id": "view-in-github",
        "colab_type": "text"
      },
      "source": [
        "<a href=\"https://colab.research.google.com/github/hrshwrdhn/ai_cheat/blob/main/logistic_reg.ipynb\" target=\"_parent\"><img src=\"https://colab.research.google.com/assets/colab-badge.svg\" alt=\"Open In Colab\"/></a>"
      ]
    },
    {
      "cell_type": "markdown",
      "metadata": {
        "id": "GjGClieXssvz"
      },
      "source": [
        "# import all modules"
      ]
    },
    {
      "cell_type": "code",
      "metadata": {
        "id": "qnFn3EM_sqGk"
      },
      "source": [
        "# Imports\n",
        "import torch\n",
        "import torchvision\n",
        "from torchvision.datasets import QMNIST"
      ],
      "execution_count": 3,
      "outputs": []
    },
    {
      "cell_type": "markdown",
      "metadata": {
        "id": "SdPePsE3tid0"
      },
      "source": [
        "# Download and explore dataset"
      ]
    },
    {
      "cell_type": "code",
      "metadata": {
        "id": "8rNmLP9Ys8uT"
      },
      "source": [
        "# Download training dataset\n",
        "dataset = QMNIST(root='data1/', download=True)"
      ],
      "execution_count": 4,
      "outputs": []
    },
    {
      "cell_type": "code",
      "metadata": {
        "colab": {
          "base_uri": "https://localhost:8080/"
        },
        "id": "KY5XXeL8uqyN",
        "outputId": "c46987ee-7795-4835-b8cc-f2157ffee81e"
      },
      "source": [
        "dataset"
      ],
      "execution_count": 5,
      "outputs": [
        {
          "output_type": "execute_result",
          "data": {
            "text/plain": [
              "Dataset QMNIST\n",
              "    Number of datapoints: 60000\n",
              "    Root location: data1/\n",
              "    Split: train"
            ]
          },
          "metadata": {
            "tags": []
          },
          "execution_count": 5
        }
      ]
    },
    {
      "cell_type": "code",
      "metadata": {
        "colab": {
          "base_uri": "https://localhost:8080/"
        },
        "id": "YYjCUZw5ux19",
        "outputId": "f9ff28d7-942c-422a-c0d8-eb23328c9f6a"
      },
      "source": [
        "len(dataset)"
      ],
      "execution_count": 6,
      "outputs": [
        {
          "output_type": "execute_result",
          "data": {
            "text/plain": [
              "60000"
            ]
          },
          "metadata": {
            "tags": []
          },
          "execution_count": 6
        }
      ]
    },
    {
      "cell_type": "code",
      "metadata": {
        "colab": {
          "base_uri": "https://localhost:8080/",
          "height": 211,
          "referenced_widgets": [
            "af60b0c06ff2478a961c7d05fb26e836",
            "78ce0b4f957d4ffea80c876837f8c777",
            "7592cf7d161941d9b1ea423216d7dfe7",
            "97f5efc5ca29402789241de869ce4ba8",
            "6ed206ce2d0145f7b696cb48fd035e38",
            "a2217ac00d2e4dea87325816e050bf6d",
            "00f7f5e8ccdc487cbc20139f68bd575a",
            "ac1d3f67c9de4365943350547e94b431",
            "475925faa2da4f7f884cffdfcba80236",
            "8c7765989ccd4c719c3178d527430b5f",
            "9c03d50531574cf694fdba3be7c07729",
            "c96065c5a36545358810d220dc0a0688",
            "93c1b4865bb2444f820190f22570180c",
            "19e5083cc3264083ab671325fafc1773",
            "85bcaf4f5e18456299df191fda916e7c",
            "f207676e88be4debab98f49d9b28975f"
          ]
        },
        "id": "1e7XnKCawN-v",
        "outputId": "b80c9dcb-d394-4474-8d8d-58a4faa2f05c"
      },
      "source": [
        "#download test dataset\n",
        "test_dataset = QMNIST(root='data1/', train=False,download = True)\n",
        "print(len(test_dataset))"
      ],
      "execution_count": 7,
      "outputs": [
        {
          "output_type": "stream",
          "text": [
            "Downloading https://raw.githubusercontent.com/facebookresearch/qmnist/master/qmnist-test-images-idx3-ubyte.gz to data1/QMNIST/raw/qmnist-test-images-idx3-ubyte.gz\n"
          ],
          "name": "stdout"
        },
        {
          "output_type": "display_data",
          "data": {
            "application/vnd.jupyter.widget-view+json": {
              "model_id": "af60b0c06ff2478a961c7d05fb26e836",
              "version_minor": 0,
              "version_major": 2
            },
            "text/plain": [
              "HBox(children=(FloatProgress(value=0.0, max=9742279.0), HTML(value='')))"
            ]
          },
          "metadata": {
            "tags": []
          }
        },
        {
          "output_type": "stream",
          "text": [
            "\n",
            "Downloading https://raw.githubusercontent.com/facebookresearch/qmnist/master/qmnist-test-labels-idx2-int.gz to data1/QMNIST/raw/qmnist-test-labels-idx2-int.gz\n"
          ],
          "name": "stdout"
        },
        {
          "output_type": "display_data",
          "data": {
            "application/vnd.jupyter.widget-view+json": {
              "model_id": "475925faa2da4f7f884cffdfcba80236",
              "version_minor": 0,
              "version_major": 2
            },
            "text/plain": [
              "HBox(children=(FloatProgress(value=0.0, max=526800.0), HTML(value='')))"
            ]
          },
          "metadata": {
            "tags": []
          }
        },
        {
          "output_type": "stream",
          "text": [
            "\n",
            "Processing...\n",
            "60000\n"
          ],
          "name": "stdout"
        }
      ]
    },
    {
      "cell_type": "code",
      "metadata": {
        "colab": {
          "base_uri": "https://localhost:8080/"
        },
        "id": "g32LQXb5x_mR",
        "outputId": "f7086d7b-2865-4042-c9cd-82022122b8ba"
      },
      "source": [
        "print(len(test_dataset))"
      ],
      "execution_count": 8,
      "outputs": [
        {
          "output_type": "stream",
          "text": [
            "60000\n"
          ],
          "name": "stdout"
        }
      ]
    },
    {
      "cell_type": "code",
      "metadata": {
        "colab": {
          "base_uri": "https://localhost:8080/"
        },
        "id": "uDAH1alvwfot",
        "outputId": "697be981-699f-4081-8887-0815fc9d5020"
      },
      "source": [
        "dataset[0]"
      ],
      "execution_count": 9,
      "outputs": [
        {
          "output_type": "execute_result",
          "data": {
            "text/plain": [
              "(<PIL.Image.Image image mode=L size=28x28 at 0x7F85A8D09910>, 5)"
            ]
          },
          "metadata": {
            "tags": []
          },
          "execution_count": 9
        }
      ]
    },
    {
      "cell_type": "code",
      "metadata": {
        "colab": {
          "base_uri": "https://localhost:8080/",
          "height": 283
        },
        "id": "uvFyflJ2wmAk",
        "outputId": "a1e85fe0-cfd8-4616-b8c9-0656a6676f0b"
      },
      "source": [
        "import matplotlib.pyplot as plt\n",
        "%matplotlib inline\n",
        "\n",
        "plt.imshow(dataset[20][0], cmap='gray')\n",
        "print(dataset[20][1])\n"
      ],
      "execution_count": 10,
      "outputs": [
        {
          "output_type": "stream",
          "text": [
            "4\n"
          ],
          "name": "stdout"
        },
        {
          "output_type": "display_data",
          "data": {
            "image/png": "[encoded data removed]",
            "text/plain": [
              "<Figure size 432x288 with 1 Axes>"
            ]
          },
          "metadata": {
            "tags": [],
            "needs_background": "light"
          }
        }
      ]
    },
    {
      "cell_type": "markdown",
      "metadata": {
        "id": "gFz_x61-zLwx"
      },
      "source": [
        "# tranform DataLoader"
      ]
    },
    {
      "cell_type": "code",
      "metadata": {
        "id": "_Qu_1pfry19R"
      },
      "source": [
        "import torchvision.transforms as transforms\n",
        "dataset = QMNIST(root='data1/', \n",
        "                train=True,\n",
        "                transform=transforms.ToTensor())"
      ],
      "execution_count": 11,
      "outputs": []
    },
    {
      "cell_type": "code",
      "metadata": {
        "colab": {
          "base_uri": "https://localhost:8080/"
        },
        "id": "jS58Kllbzb8J",
        "outputId": "6d7d3c98-e0dc-409c-cf42-2aed4f9c3eb9"
      },
      "source": [
        "img_tensor, label = dataset[0]\n",
        "print(img_tensor.shape, label)"
      ],
      "execution_count": 12,
      "outputs": [
        {
          "output_type": "stream",
          "text": [
            "torch.Size([1, 28, 28]) 5\n"
          ],
          "name": "stdout"
        }
      ]
    },
    {
      "cell_type": "code",
      "metadata": {
        "colab": {
          "base_uri": "https://localhost:8080/"
        },
        "id": "SeJer9Rez9VV",
        "outputId": "9207d4ec-515d-471b-f597-87977670f0c5"
      },
      "source": [
        "print(img_tensor[0,10:15,10:15])\n",
        "print(torch.max(img_tensor), torch.min(img_tensor))"
      ],
      "execution_count": 13,
      "outputs": [
        {
          "output_type": "stream",
          "text": [
            "tensor([[0.0039, 0.6078, 0.9961, 0.3490, 0.0000],\n",
            "        [0.0000, 0.5490, 0.9961, 0.7490, 0.0039],\n",
            "        [0.0000, 0.0392, 0.7451, 0.9961, 0.2706],\n",
            "        [0.0000, 0.0000, 0.1373, 0.9451, 0.8824],\n",
            "        [0.0000, 0.0000, 0.0000, 0.3176, 0.9412]])\n",
            "tensor(1.) tensor(0.)\n"
          ],
          "name": "stdout"
        }
      ]
    },
    {
      "cell_type": "markdown",
      "metadata": {
        "id": "V20QBOlb0GNs"
      },
      "source": [
        "The values range from 0 to 1, with 0 representing black, 1 white, and the values in between different shades of grey. We can also plot the tensor as an image using plt.imshow."
      ]
    },
    {
      "cell_type": "code",
      "metadata": {
        "colab": {
          "base_uri": "https://localhost:8080/",
          "height": 265
        },
        "id": "ksFObGYQ0jNq",
        "outputId": "48be4c31-18d8-4838-a9ee-d9e84229f839"
      },
      "source": [
        "# Plot the image by passing in the 28x28 matrix\n",
        "plt.imshow(img_tensor[0,10:15,10:15], cmap='gray');"
      ],
      "execution_count": 14,
      "outputs": [
        {
          "output_type": "display_data",
          "data": {
            "image/png": "[encoded data removed]",
            "text/plain": [
              "<Figure size 432x288 with 1 Axes>"
            ]
          },
          "metadata": {
            "tags": [],
            "needs_background": "light"
          }
        }
      ]
    },
    {
      "cell_type": "markdown",
      "metadata": {
        "id": "0VdkAuhK06dl"
      },
      "source": [
        "### split dataset\n"
      ]
    },
    {
      "cell_type": "code",
      "metadata": {
        "colab": {
          "base_uri": "https://localhost:8080/"
        },
        "id": "5jMq5R1y0jRE",
        "outputId": "70f64c1c-895b-424c-d00c-0d815926689b"
      },
      "source": [
        "from torch.utils.data import random_split\n",
        "\n",
        "train_ds, val_ds = random_split(dataset, [50000, 10000])\n",
        "len(train_ds), len(val_ds)"
      ],
      "execution_count": 15,
      "outputs": [
        {
          "output_type": "execute_result",
          "data": {
            "text/plain": [
              "(50000, 10000)"
            ]
          },
          "metadata": {
            "tags": []
          },
          "execution_count": 15
        }
      ]
    },
    {
      "cell_type": "markdown",
      "metadata": {
        "id": "rKgugPaF1EwS"
      },
      "source": [
        "### dataloader"
      ]
    },
    {
      "cell_type": "code",
      "metadata": {
        "id": "0hMmPmL31B0o"
      },
      "source": [
        "from torch.utils.data import DataLoader\n",
        "batch_size = 128\n",
        "\n",
        "train_loader = DataLoader(train_ds, batch_size, shuffle=True)\n",
        "val_loader = DataLoader(val_ds, batch_size)"
      ],
      "execution_count": 16,
      "outputs": []
    },
    {
      "cell_type": "markdown",
      "metadata": {
        "id": "40MExGeu15ln"
      },
      "source": [
        "# Model"
      ]
    },
    {
      "cell_type": "markdown",
      "metadata": {
        "id": "mqieQQIluJ9w"
      },
      "source": [
        "### USe `torch.nn` to create layer \n"
      ]
    },
    {
      "cell_type": "code",
      "metadata": {
        "id": "favvRWD41HUN"
      },
      "source": [
        "import torch.nn as nn\n",
        "\n",
        "input_size = 28*28\n",
        "num_classes = 10\n",
        "\n",
        "# Logistic regression model\n",
        "model = nn.Linear(input_size, num_classes)"
      ],
      "execution_count": 17,
      "outputs": []
    },
    {
      "cell_type": "code",
      "metadata": {
        "colab": {
          "base_uri": "https://localhost:8080/"
        },
        "id": "eNaorG8H2B0o",
        "outputId": "b3bb8c2e-5417-46ff-dd73-2543e790b706"
      },
      "source": [
        "# check model parameter\n",
        "print(model.weight.shape)\n",
        "model.weight\n"
      ],
      "execution_count": 18,
      "outputs": [
        {
          "output_type": "stream",
          "text": [
            "torch.Size([10, 784])\n"
          ],
          "name": "stdout"
        },
        {
          "output_type": "execute_result",
          "data": {
            "text/plain": [
              "Parameter containing:\n",
              "tensor([[ 0.0265,  0.0354,  0.0151,  ..., -0.0032,  0.0024, -0.0296],\n",
              "        [ 0.0343,  0.0250,  0.0178,  ..., -0.0325,  0.0238, -0.0036],\n",
              "        [ 0.0183,  0.0085,  0.0243,  ..., -0.0322,  0.0334,  0.0317],\n",
              "        ...,\n",
              "        [ 0.0243, -0.0064,  0.0128,  ..., -0.0180,  0.0066, -0.0191],\n",
              "        [ 0.0096,  0.0209, -0.0247,  ...,  0.0167,  0.0047,  0.0036],\n",
              "        [ 0.0298,  0.0202,  0.0105,  ..., -0.0298, -0.0211,  0.0158]],\n",
              "       requires_grad=True)"
            ]
          },
          "metadata": {
            "tags": []
          },
          "execution_count": 18
        }
      ]
    },
    {
      "cell_type": "code",
      "metadata": {
        "colab": {
          "base_uri": "https://localhost:8080/"
        },
        "id": "LnVTT0Dr2RVI",
        "outputId": "ea2eb472-f072-4f5f-f18c-60b04c07514f"
      },
      "source": [
        "print(model.bias.shape)\n",
        "model.bias"
      ],
      "execution_count": 19,
      "outputs": [
        {
          "output_type": "stream",
          "text": [
            "torch.Size([10])\n"
          ],
          "name": "stdout"
        },
        {
          "output_type": "execute_result",
          "data": {
            "text/plain": [
              "Parameter containing:\n",
              "tensor([ 0.0023,  0.0341, -0.0353,  0.0114, -0.0218, -0.0301,  0.0125,  0.0327,\n",
              "        -0.0249,  0.0311], requires_grad=True)"
            ]
          },
          "metadata": {
            "tags": []
          },
          "execution_count": 19
        }
      ]
    },
    {
      "cell_type": "code",
      "metadata": {
        "id": "c2HWol7qfTTY"
      },
      "source": [
        "class QMnistModel(nn.Module):\n",
        "   def __init__(self):\n",
        "       super().__init__()\n",
        "       self.linear = nn.Linear(input_size, num_classes)\n",
        "      \n",
        "   def forward(self, xb):\n",
        "       xb = xb.reshape(-1, 784)\n",
        "       out = self.linear(xb)\n",
        "       return out\n",
        "  \n",
        "model = QMnistModel()\n"
      ],
      "execution_count": 20,
      "outputs": []
    },
    {
      "cell_type": "markdown",
      "metadata": {
        "id": "N8dsAU8D3sio"
      },
      "source": [
        "Inside the `__init__` constructor method, we instantiate the weights and biases using `nn.Linear`. And inside the `forward` method, which is invoked when we pass a batch of inputs to the model, we flatten the input tensor and pass it into `self.linear`.\n",
        "\n",
        "`xb.reshape(-1, 28*28)` indicates to PyTorch that we want a *view* of the `xb` tensor with two dimensions. The length along the 2nd dimension is 28\\*28 (i.e., 784). One argument to `.reshape` can be set to `-1` (in this case, the first dimension) to let PyTorch figure it out automatically based on the shape of the original tensor.\n",
        "\n",
        "Note that the model no longer has `.weight` and `.bias` attributes (as they are now inside the `.linear` attribute), but it does have a `.parameters` method that returns a list containing the weights and bias."
      ]
    },
    {
      "cell_type": "code",
      "metadata": {
        "colab": {
          "base_uri": "https://localhost:8080/"
        },
        "id": "7bhawacQ3lnk",
        "outputId": "cfbd1c75-10bc-47a5-cbe9-a2b93070ac24"
      },
      "source": [
        "model.linear"
      ],
      "execution_count": 21,
      "outputs": [
        {
          "output_type": "execute_result",
          "data": {
            "text/plain": [
              "Linear(in_features=784, out_features=10, bias=True)"
            ]
          },
          "metadata": {
            "tags": []
          },
          "execution_count": 21
        }
      ]
    },
    {
      "cell_type": "code",
      "metadata": {
        "colab": {
          "base_uri": "https://localhost:8080/"
        },
        "id": "WS2QYc1e4LeJ",
        "outputId": "fc3159f0-05d0-4b2b-d402-88271f3bfde9"
      },
      "source": [
        "print(model.linear.weight.shape, model.linear.bias.shape)\n",
        "list(model.parameters())"
      ],
      "execution_count": 22,
      "outputs": [
        {
          "output_type": "stream",
          "text": [
            "torch.Size([10, 784]) torch.Size([10])\n"
          ],
          "name": "stdout"
        },
        {
          "output_type": "execute_result",
          "data": {
            "text/plain": [
              "[Parameter containing:\n",
              " tensor([[ 0.0318, -0.0338,  0.0254,  ..., -0.0183,  0.0084, -0.0259],\n",
              "         [ 0.0277,  0.0045, -0.0228,  ...,  0.0053, -0.0033,  0.0128],\n",
              "         [-0.0095,  0.0125,  0.0033,  ..., -0.0153, -0.0020,  0.0125],\n",
              "         ...,\n",
              "         [ 0.0056, -0.0274,  0.0104,  ...,  0.0300, -0.0145,  0.0168],\n",
              "         [ 0.0260,  0.0287, -0.0199,  ..., -0.0353,  0.0034,  0.0343],\n",
              "         [-0.0306, -0.0281,  0.0060,  ..., -0.0266, -0.0210,  0.0006]],\n",
              "        requires_grad=True), Parameter containing:\n",
              " tensor([-0.0271,  0.0073,  0.0220,  0.0120,  0.0134, -0.0122, -0.0344, -0.0142,\n",
              "          0.0009,  0.0020], requires_grad=True)]"
            ]
          },
          "metadata": {
            "tags": []
          },
          "execution_count": 22
        }
      ]
    },
    {
      "cell_type": "code",
      "metadata": {
        "id": "bdAjFuXJ4u_E"
      },
      "source": [
        "## check prediction on model"
      ],
      "execution_count": 23,
      "outputs": []
    },
    {
      "cell_type": "markdown",
      "metadata": {
        "id": "-AtPvVs04vdO"
      },
      "source": [
        "## check prediction on model"
      ]
    },
    {
      "cell_type": "code",
      "metadata": {
        "colab": {
          "base_uri": "https://localhost:8080/"
        },
        "id": "9ROEWbfW4yMf",
        "outputId": "002361ef-d9f4-4e2d-b311-1c35e1566551"
      },
      "source": [
        "for images, labels in train_loader:\n",
        "    print(images.shape)\n",
        "    outputs = model(images)\n",
        "    break\n",
        "\n",
        "print('outputs.shape : ', outputs.shape)\n",
        "print('Sample outputs :\\n', outputs[:2].data)"
      ],
      "execution_count": 24,
      "outputs": [
        {
          "output_type": "stream",
          "text": [
            "torch.Size([128, 1, 28, 28])\n",
            "outputs.shape :  torch.Size([128, 10])\n",
            "Sample outputs :\n",
            " tensor([[ 0.1982, -0.0835, -0.0521,  0.1153,  0.1224,  0.1637,  0.2612, -0.3023,\n",
            "          0.6538,  0.3202],\n",
            "        [-0.2034, -0.1405,  0.0535,  0.0161,  0.1386,  0.1290,  0.2120,  0.0603,\n",
            "          0.2785, -0.0219]])\n"
          ],
          "name": "stdout"
        }
      ]
    },
    {
      "cell_type": "code",
      "metadata": {
        "id": "xyOxyzIMumYs"
      },
      "source": [
        ""
      ],
      "execution_count": null,
      "outputs": []
    },
    {
      "cell_type": "markdown",
      "metadata": {
        "id": "5RuxBvsoumwB"
      },
      "source": [
        "# softmax function, change logic score to probability"
      ]
    },
    {
      "cell_type": "code",
      "metadata": {
        "id": "UVL1dM4I4yP2"
      },
      "source": [
        "import torch.nn.functional as F\n"
      ],
      "execution_count": 26,
      "outputs": []
    },
    {
      "cell_type": "code",
      "metadata": {
        "colab": {
          "base_uri": "https://localhost:8080/"
        },
        "id": "0SK-uXQx4yTj",
        "outputId": "77f11558-d73a-44ec-f408-84b60fcd146a"
      },
      "source": [
        "# Apply softmax for each output row\n",
        "probs = F.softmax(outputs, dim=1)\n",
        "\n",
        "# Look at sample probabilities\n",
        "print(\"Sample probabilities:\\n\", probs[:2].data)\n",
        "\n",
        "# Add up the probabilities of an output row\n",
        "print(\"Sum: \", torch.sum(probs[0]).item())"
      ],
      "execution_count": 27,
      "outputs": [
        {
          "output_type": "stream",
          "text": [
            "Sample probabilities:\n",
            " tensor([[0.1028, 0.0776, 0.0801, 0.0947, 0.0953, 0.0993, 0.1095, 0.0623, 0.1622,\n",
            "         0.1162],\n",
            "        [0.0767, 0.0817, 0.0992, 0.0955, 0.1080, 0.1069, 0.1162, 0.0998, 0.1242,\n",
            "         0.0919]])\n",
            "Sum:  0.9999999403953552\n"
          ],
          "name": "stdout"
        }
      ]
    },
    {
      "cell_type": "code",
      "metadata": {
        "id": "Lmu_9EKFuvD4"
      },
      "source": [
        "### ouput is class having maximum probabilty"
      ],
      "execution_count": 29,
      "outputs": []
    },
    {
      "cell_type": "code",
      "metadata": {
        "colab": {
          "base_uri": "https://localhost:8080/"
        },
        "id": "_5OE1wpF6ZXW",
        "outputId": "9466901a-841e-4aa8-e9cd-fd02b3bc4994"
      },
      "source": [
        "max_probs, preds = torch.max(probs, dim=1)\n",
        "print(preds)\n",
        "print(max_probs)"
      ],
      "execution_count": 30,
      "outputs": [
        {
          "output_type": "stream",
          "text": [
            "tensor([8, 8, 8, 8, 8, 8, 8, 8, 8, 8, 6, 8, 6, 8, 8, 1, 6, 8, 6, 8, 8, 8, 8, 8,\n",
            "        8, 8, 8, 8, 8, 4, 8, 9, 8, 8, 8, 8, 8, 0, 8, 6, 8, 8, 8, 8, 2, 3, 8, 8,\n",
            "        6, 6, 8, 7, 9, 8, 8, 8, 8, 8, 3, 8, 8, 8, 8, 6, 8, 8, 9, 8, 4, 8, 8, 6,\n",
            "        9, 6, 9, 8, 8, 8, 8, 6, 8, 8, 8, 8, 8, 6, 8, 8, 6, 6, 5, 6, 8, 8, 0, 6,\n",
            "        0, 8, 6, 8, 8, 9, 6, 8, 8, 8, 8, 8, 8, 8, 8, 8, 8, 6, 8, 8, 8, 8, 8, 6,\n",
            "        6, 6, 8, 8, 8, 8, 6, 8])\n",
            "tensor([0.1622, 0.1242, 0.1329, 0.1227, 0.1727, 0.1512, 0.1689, 0.1509, 0.1193,\n",
            "        0.1303, 0.1405, 0.1361, 0.1479, 0.1659, 0.1445, 0.1281, 0.1201, 0.1922,\n",
            "        0.1369, 0.1224, 0.1475, 0.1213, 0.1415, 0.1418, 0.1484, 0.1639, 0.1196,\n",
            "        0.1640, 0.1132, 0.1262, 0.1371, 0.1467, 0.1712, 0.1219, 0.1430, 0.1227,\n",
            "        0.1234, 0.1154, 0.1446, 0.1504, 0.1483, 0.1741, 0.1377, 0.1159, 0.1141,\n",
            "        0.1560, 0.1413, 0.1490, 0.1324, 0.1358, 0.1526, 0.1274, 0.1153, 0.1463,\n",
            "        0.1231, 0.1278, 0.1514, 0.1715, 0.1532, 0.1809, 0.1482, 0.1338, 0.1435,\n",
            "        0.1288, 0.1269, 0.1482, 0.1122, 0.1215, 0.1228, 0.1369, 0.1614, 0.1346,\n",
            "        0.1271, 0.1611, 0.1258, 0.1308, 0.1423, 0.1160, 0.1260, 0.1286, 0.1335,\n",
            "        0.1601, 0.1467, 0.1375, 0.1670, 0.1214, 0.1445, 0.1482, 0.1245, 0.1361,\n",
            "        0.1323, 0.1265, 0.1459, 0.1347, 0.1206, 0.1450, 0.1165, 0.1484, 0.1416,\n",
            "        0.1365, 0.1561, 0.1323, 0.1553, 0.1318, 0.1135, 0.1358, 0.1299, 0.1440,\n",
            "        0.1675, 0.1290, 0.1321, 0.1412, 0.1473, 0.1485, 0.1378, 0.1242, 0.1283,\n",
            "        0.1370, 0.1373, 0.1175, 0.1323, 0.1539, 0.1422, 0.1542, 0.1449, 0.1275,\n",
            "        0.1213, 0.1313], grad_fn=<MaxBackward0>)\n"
          ],
          "name": "stdout"
        }
      ]
    },
    {
      "cell_type": "markdown",
      "metadata": {
        "id": "McH-nLyE6s0m"
      },
      "source": [
        "## Evaluation Metric and Loss Function"
      ]
    },
    {
      "cell_type": "code",
      "metadata": {
        "id": "Wzzchp5E6v_B"
      },
      "source": [
        "def accuracy(outputs, labels):\n",
        "    _, preds = torch.max(outputs, dim=1)\n",
        "    return torch.tensor(torch.sum(preds == labels).item() / len(preds))"
      ],
      "execution_count": 34,
      "outputs": []
    },
    {
      "cell_type": "code",
      "metadata": {
        "colab": {
          "base_uri": "https://localhost:8080/"
        },
        "id": "kOrVnhmH6wCc",
        "outputId": "0eaf07db-1791-4d34-ddd9-a44cf8bb46f3"
      },
      "source": [
        "accuracy(outputs, labels)"
      ],
      "execution_count": 35,
      "outputs": [
        {
          "output_type": "execute_result",
          "data": {
            "text/plain": [
              "tensor(0.1328)"
            ]
          },
          "metadata": {
            "tags": []
          },
          "execution_count": 35
        }
      ]
    },
    {
      "cell_type": "code",
      "metadata": {
        "id": "G-spVsWe6wF7"
      },
      "source": [
        "loss_fn = F.cross_entropy"
      ],
      "execution_count": 36,
      "outputs": []
    },
    {
      "cell_type": "code",
      "metadata": {
        "colab": {
          "base_uri": "https://localhost:8080/"
        },
        "id": "K_Q7ICe36wJE",
        "outputId": "e51fc79e-1cae-4748-f7a0-6fbacea8d1a6"
      },
      "source": [
        "# Loss for current batch of data\n",
        "loss = loss_fn(outputs, labels)\n",
        "print(loss)"
      ],
      "execution_count": 37,
      "outputs": [
        {
          "output_type": "stream",
          "text": [
            "tensor(2.2704, grad_fn=<NllLossBackward>)\n"
          ],
          "name": "stdout"
        }
      ]
    },
    {
      "cell_type": "markdown",
      "metadata": {
        "id": "PlURk6uB8UxK"
      },
      "source": [
        "# training"
      ]
    },
    {
      "cell_type": "markdown",
      "metadata": {
        "id": "yRwItyiZ8ZOz"
      },
      "source": [
        "Now that we have defined the data loaders, model, loss function and optimizer, we are ready to train the model. The training process is identical to linear regression, with the addition of a \"validation phase\" to evaluate the model in each epoch. Here's what it looks like in pseudocode:\n",
        "\n",
        "for epoch in range(num_epochs):\n",
        "    # Training phase\n",
        "    for batch in train_loader:\n",
        "        # Generate predictions\n",
        "        # Calculate loss\n",
        "        # Compute gradients\n",
        "        # Update weights\n",
        "        # Reset gradients\n",
        " \n",
        "    # Validation phase\n",
        "    for batch in val_loader:\n",
        "        # Generate predictions\n",
        "        # Calculate loss\n",
        "        # Calculate metrics (accuracy etc.)\n",
        "    # Calculate average validation loss & metrics\n",
        " \n",
        "    # Log epoch, loss & metrics for inspection\n",
        "\n",
        "Some parts of the training loop are specific the specific problem we're solving (e.g. loss function, metrics etc.) whereas others are generic and can be applied to any deep learning problem.\n",
        "\n",
        "We'll include the problem-independent parts within a function called fit, which will be used to train the model. The problem-specific parts will be implemented by adding new methods to the nn.Module class."
      ]
    },
    {
      "cell_type": "code",
      "metadata": {
        "id": "GQihfTw-8XrH"
      },
      "source": [
        "def fit(epochs, lr, model, train_loader, val_loader, opt_func=torch.optim.SGD):\n",
        "    optimizer = opt_func(model.parameters(), lr)\n",
        "    history = [] # for recording epoch-wise results\n",
        "    \n",
        "    for epoch in range(epochs):\n",
        "        \n",
        "        # Training Phase \n",
        "        for batch in train_loader:\n",
        "            loss = model.training_step(batch)\n",
        "            loss.backward()\n",
        "            optimizer.step()\n",
        "            optimizer.zero_grad()\n",
        "        \n",
        "        # Validation phase\n",
        "        result = evaluate(model, val_loader)\n",
        "        model.epoch_end(epoch, result)\n",
        "        history.append(result)\n",
        "\n",
        "    return history"
      ],
      "execution_count": 38,
      "outputs": []
    },
    {
      "cell_type": "code",
      "metadata": {
        "id": "Dyreby-J8hrY"
      },
      "source": [
        "def evaluate(model, val_loader):\n",
        "    outputs = [model.validation_step(batch) for batch in val_loader]\n",
        "    return model.validation_epoch_end(outputs)"
      ],
      "execution_count": 39,
      "outputs": []
    },
    {
      "cell_type": "markdown",
      "metadata": {
        "id": "cC91CI_PAYtB"
      },
      "source": [
        ""
      ]
    },
    {
      "cell_type": "code",
      "metadata": {
        "id": "z4oxNN-i8vhs"
      },
      "source": [
        ""
      ],
      "execution_count": null,
      "outputs": []
    },
    {
      "cell_type": "markdown",
      "metadata": {
        "id": "YBLxJAEn8wSm"
      },
      "source": [
        "## update all function in a class"
      ]
    },
    {
      "cell_type": "code",
      "metadata": {
        "id": "TSHsFLb_8tsx"
      },
      "source": [
        "class QMnistModel(nn.Module):\n",
        "    def __init__(self):\n",
        "        super().__init__()\n",
        "        self.linear = nn.Linear(input_size, num_classes)\n",
        "        \n",
        "    def forward(self, xb):\n",
        "        xb = xb.reshape(-1, 784)\n",
        "        out = self.linear(xb)\n",
        "        return out\n",
        "    \n",
        "    def training_step(self, batch):\n",
        "        images, labels = batch \n",
        "        out = self(images)                  # Generate predictions\n",
        "        loss = F.cross_entropy(out, labels) # Calculate loss\n",
        "        return loss\n",
        "    \n",
        "    def validation_step(self, batch):\n",
        "        images, labels = batch \n",
        "        out = self(images)                    # Generate predictions\n",
        "        loss = F.cross_entropy(out, labels)   # Calculate loss\n",
        "        acc = accuracy(out, labels)           # Calculate accuracy\n",
        "        return {'val_loss': loss, 'val_acc': acc}\n",
        "        \n",
        "    def validation_epoch_end(self, outputs):\n",
        "        batch_losses = [x['val_loss'] for x in outputs]\n",
        "        epoch_loss = torch.stack(batch_losses).mean()   # Combine losses\n",
        "        batch_accs = [x['val_acc'] for x in outputs]\n",
        "        epoch_acc = torch.stack(batch_accs).mean()      # Combine accuracies\n",
        "        return {'val_loss': epoch_loss.item(), 'val_acc': epoch_acc.item()}\n",
        "    \n",
        "    def epoch_end(self, epoch, result):\n",
        "        print(\"Epoch [{}], val_loss: {:.4f}, val_acc: {:.4f}\".format(epoch, result['val_loss'], result['val_acc']))\n",
        "    \n",
        "model = QMnistModel()"
      ],
      "execution_count": 40,
      "outputs": []
    },
    {
      "cell_type": "markdown",
      "metadata": {
        "id": "wAI5HiAEvDaL"
      },
      "source": [
        ""
      ]
    },
    {
      "cell_type": "code",
      "metadata": {
        "colab": {
          "base_uri": "https://localhost:8080/"
        },
        "id": "FeepYMi19kV1",
        "outputId": "bd74e241-c4a7-4632-bb99-6cce0eb2c0fb"
      },
      "source": [
        "result0 = evaluate(model, val_loader)\n",
        "result0\n"
      ],
      "execution_count": 42,
      "outputs": [
        {
          "output_type": "execute_result",
          "data": {
            "text/plain": [
              "{'val_acc': 0.14725078642368317, 'val_loss': 2.2894954681396484}"
            ]
          },
          "metadata": {
            "tags": []
          },
          "execution_count": 42
        }
      ]
    },
    {
      "cell_type": "code",
      "metadata": {
        "colab": {
          "base_uri": "https://localhost:8080/"
        },
        "id": "mc4RtAPv96HA",
        "outputId": "f559a679-3779-43ae-d6cf-377b2f2eec9e"
      },
      "source": [
        "history1 = fit(5, 0.001, model, train_loader, val_loader)"
      ],
      "execution_count": 43,
      "outputs": [
        {
          "output_type": "stream",
          "text": [
            "Epoch [0], val_loss: 1.9194, val_acc: 0.6654\n",
            "Epoch [1], val_loss: 1.6548, val_acc: 0.7602\n",
            "Epoch [2], val_loss: 1.4580, val_acc: 0.7812\n",
            "Epoch [3], val_loss: 1.3094, val_acc: 0.7986\n",
            "Epoch [4], val_loss: 1.1952, val_acc: 0.8098\n"
          ],
          "name": "stdout"
        }
      ]
    },
    {
      "cell_type": "code",
      "metadata": {
        "colab": {
          "base_uri": "https://localhost:8080/"
        },
        "id": "C86wykSJ-DSq",
        "outputId": "3f4b79f1-1063-4921-8773-616c2735ed9e"
      },
      "source": [
        "history1 = fit(50, 0.001, model, train_loader, val_loader)"
      ],
      "execution_count": null,
      "outputs": [
        {
          "output_type": "stream",
          "text": [
            "Epoch [0], val_loss: 1.1116, val_acc: 0.8020\n",
            "Epoch [1], val_loss: 1.0399, val_acc: 0.8121\n",
            "Epoch [2], val_loss: 0.9812, val_acc: 0.8174\n",
            "Epoch [3], val_loss: 0.9321, val_acc: 0.8216\n",
            "Epoch [4], val_loss: 0.8908, val_acc: 0.8250\n",
            "Epoch [5], val_loss: 0.8553, val_acc: 0.8285\n",
            "Epoch [6], val_loss: 0.8244, val_acc: 0.8339\n",
            "Epoch [7], val_loss: 0.7974, val_acc: 0.8355\n",
            "Epoch [8], val_loss: 0.7735, val_acc: 0.8380\n",
            "Epoch [9], val_loss: 0.7523, val_acc: 0.8399\n",
            "Epoch [10], val_loss: 0.7332, val_acc: 0.8418\n",
            "Epoch [11], val_loss: 0.7160, val_acc: 0.8453\n",
            "Epoch [12], val_loss: 0.7003, val_acc: 0.8472\n",
            "Epoch [13], val_loss: 0.6859, val_acc: 0.8484\n",
            "Epoch [14], val_loss: 0.6728, val_acc: 0.8500\n",
            "Epoch [15], val_loss: 0.6608, val_acc: 0.8510\n",
            "Epoch [16], val_loss: 0.6496, val_acc: 0.8528\n",
            "Epoch [17], val_loss: 0.6393, val_acc: 0.8534\n",
            "Epoch [18], val_loss: 0.6297, val_acc: 0.8546\n",
            "Epoch [19], val_loss: 0.6207, val_acc: 0.8560\n",
            "Epoch [20], val_loss: 0.6124, val_acc: 0.8563\n",
            "Epoch [21], val_loss: 0.6044, val_acc: 0.8569\n",
            "Epoch [22], val_loss: 0.5970, val_acc: 0.8580\n",
            "Epoch [23], val_loss: 0.5901, val_acc: 0.8592\n",
            "Epoch [24], val_loss: 0.5835, val_acc: 0.8603\n",
            "Epoch [25], val_loss: 0.5773, val_acc: 0.8606\n",
            "Epoch [26], val_loss: 0.5714, val_acc: 0.8614\n",
            "Epoch [27], val_loss: 0.5658, val_acc: 0.8621\n",
            "Epoch [28], val_loss: 0.5604, val_acc: 0.8625\n",
            "Epoch [29], val_loss: 0.5553, val_acc: 0.8629\n",
            "Epoch [30], val_loss: 0.5505, val_acc: 0.8636\n",
            "Epoch [31], val_loss: 0.5459, val_acc: 0.8642\n",
            "Epoch [32], val_loss: 0.5415, val_acc: 0.8649\n",
            "Epoch [33], val_loss: 0.5372, val_acc: 0.8651\n",
            "Epoch [34], val_loss: 0.5332, val_acc: 0.8657\n",
            "Epoch [35], val_loss: 0.5293, val_acc: 0.8662\n",
            "Epoch [36], val_loss: 0.5256, val_acc: 0.8674\n",
            "Epoch [37], val_loss: 0.5220, val_acc: 0.8678\n",
            "Epoch [38], val_loss: 0.5185, val_acc: 0.8678\n",
            "Epoch [39], val_loss: 0.5152, val_acc: 0.8687\n",
            "Epoch [40], val_loss: 0.5120, val_acc: 0.8691\n",
            "Epoch [41], val_loss: 0.5089, val_acc: 0.8700\n",
            "Epoch [42], val_loss: 0.5059, val_acc: 0.8705\n",
            "Epoch [43], val_loss: 0.5030, val_acc: 0.8709\n",
            "Epoch [44], val_loss: 0.5002, val_acc: 0.8712\n",
            "Epoch [45], val_loss: 0.4975, val_acc: 0.8717\n",
            "Epoch [46], val_loss: 0.4949, val_acc: 0.8722\n",
            "Epoch [47], val_loss: 0.4924, val_acc: 0.8727\n",
            "Epoch [48], val_loss: 0.4899, val_acc: 0.8728\n",
            "Epoch [49], val_loss: 0.4875, val_acc: 0.8730\n"
          ],
          "name": "stdout"
        }
      ]
    },
    {
      "cell_type": "code",
      "metadata": {
        "colab": {
          "base_uri": "https://localhost:8080/",
          "height": 295
        },
        "id": "Sk6G28Um-XIz",
        "outputId": "19aac909-2405-448e-d46f-822ea9f0fcdc"
      },
      "source": [
        "accuracies = [result['val_acc'] for result in history1]\n",
        "plt.plot(accuracies, '-x')\n",
        "plt.xlabel('epoch')\n",
        "plt.ylabel('accuracy')\n",
        "plt.title('Accuracy vs. No. of epochs');"
      ],
      "execution_count": null,
      "outputs": [
        {
          "output_type": "display_data",
          "data": {
            "image/png": "[encoded data removed]",
            "text/plain": [
              "<Figure size 432x288 with 1 Axes>"
            ]
          },
          "metadata": {
            "tags": [],
            "needs_background": "light"
          }
        }
      ]
    },
    {
      "cell_type": "code",
      "metadata": {
        "id": "r92B0srF-j3f"
      },
      "source": [
        ""
      ],
      "execution_count": null,
      "outputs": []
    },
    {
      "cell_type": "markdown",
      "metadata": {
        "id": "Yjtk9w9A-kMH"
      },
      "source": [
        "# do prediction on test image\n"
      ]
    },
    {
      "cell_type": "code",
      "metadata": {
        "id": "WYEvSh60-ywi"
      },
      "source": [
        "def predict_image(img, model):\n",
        "    xb = img.unsqueeze(0)\n",
        "    yb = model(xb)\n",
        "    _, preds = torch.max(yb, dim=1)\n",
        "    return preds[0].item()"
      ],
      "execution_count": 44,
      "outputs": []
    },
    {
      "cell_type": "code",
      "metadata": {
        "colab": {
          "base_uri": "https://localhost:8080/"
        },
        "id": "CVSmQKCa_1JO",
        "outputId": "8e69d4bd-9d5c-4ebf-e11a-66fca078cb0c"
      },
      "source": [
        ""
      ],
      "execution_count": null,
      "outputs": [
        {
          "output_type": "execute_result",
          "data": {
            "text/plain": [
              "(<PIL.Image.Image image mode=L size=28x28 at 0x7FC6F19F7E90>, 7)"
            ]
          },
          "metadata": {
            "tags": []
          },
          "execution_count": 65
        }
      ]
    },
    {
      "cell_type": "code",
      "metadata": {
        "colab": {
          "base_uri": "https://localhost:8080/",
          "height": 283
        },
        "id": "SJXu9GAP-zcl",
        "outputId": "a145f851-d9da-4e10-db52-7730703f235a"
      },
      "source": [
        "img, label = test_dataset[0]\n",
        "img\n",
        "plt.imshow(img, cmap='gray')\n",
        "#print('Label:', label, ', Predicted:', predict_image(img, model))"
      ],
      "execution_count": 45,
      "outputs": [
        {
          "output_type": "execute_result",
          "data": {
            "text/plain": [
              "<matplotlib.image.AxesImage at 0x7f85a7b61e50>"
            ]
          },
          "metadata": {
            "tags": []
          },
          "execution_count": 45
        },
        {
          "output_type": "display_data",
          "data": {
            "image/png": "[encoded data removed]",
            "text/plain": [
              "<Figure size 432x288 with 1 Axes>"
            ]
          },
          "metadata": {
            "tags": [],
            "needs_background": "light"
          }
        }
      ]
    },
    {
      "cell_type": "code",
      "metadata": {
        "id": "wte8LuNcA6bN"
      },
      "source": [
        "import torchvision.transforms as transforms\n",
        "test_dataset = QMNIST(root='data1/', \n",
        "                train=False,\n",
        "                transform=transforms.ToTensor())"
      ],
      "execution_count": 46,
      "outputs": []
    },
    {
      "cell_type": "code",
      "metadata": {
        "colab": {
          "base_uri": "https://localhost:8080/"
        },
        "id": "nwHdyRGp-s_2",
        "outputId": "8eb6fa76-8330-4f39-a7fb-f7e6f6e8744a"
      },
      "source": [
        "test_loader = DataLoader(test_dataset,batch_size=128)\n",
        "\n",
        "result = evaluate(model, test_loader)\n",
        "result"
      ],
      "execution_count": 47,
      "outputs": [
        {
          "output_type": "execute_result",
          "data": {
            "text/plain": [
              "{'val_acc': 0.8087853193283081, 'val_loss': 1.1888304948806763}"
            ]
          },
          "metadata": {
            "tags": []
          },
          "execution_count": 47
        }
      ]
    },
    {
      "cell_type": "code",
      "metadata": {
        "id": "SkQcMPNk-_2v"
      },
      "source": [
        ""
      ],
      "execution_count": null,
      "outputs": []
    },
    {
      "cell_type": "markdown",
      "metadata": {
        "id": "gY2OKjE1_AFC"
      },
      "source": [
        "# Saving and loading the model"
      ]
    },
    {
      "cell_type": "code",
      "metadata": {
        "id": "AkyURjUtCK-K"
      },
      "source": [
        ""
      ],
      "execution_count": null,
      "outputs": []
    },
    {
      "cell_type": "code",
      "metadata": {
        "id": "k7pAPqAp-txy"
      },
      "source": [
        "torch.save(model.state_dict(), 'qmnist-logistic.pth')"
      ],
      "execution_count": 48,
      "outputs": []
    },
    {
      "cell_type": "code",
      "metadata": {
        "id": "FwTSdOcJCPaa"
      },
      "source": [
        "model2 = QMnistModel()\n",
        "\n"
      ],
      "execution_count": 50,
      "outputs": []
    },
    {
      "cell_type": "code",
      "metadata": {
        "colab": {
          "base_uri": "https://localhost:8080/"
        },
        "id": "la2MI53ECUMP",
        "outputId": "0be14dbd-5c64-46d6-cd7e-4fbd5b7ab2e0"
      },
      "source": [
        "model2.state_dict()"
      ],
      "execution_count": 51,
      "outputs": [
        {
          "output_type": "execute_result",
          "data": {
            "text/plain": [
              "OrderedDict([('linear.weight',\n",
              "              tensor([[-0.0019, -0.0309, -0.0309,  ..., -0.0280, -0.0278, -0.0166],\n",
              "                      [ 0.0232, -0.0171,  0.0187,  ..., -0.0203,  0.0018,  0.0337],\n",
              "                      [-0.0262,  0.0111,  0.0208,  ...,  0.0023, -0.0053, -0.0022],\n",
              "                      ...,\n",
              "                      [ 0.0057,  0.0144, -0.0133,  ...,  0.0327,  0.0311, -0.0292],\n",
              "                      [ 0.0050,  0.0084,  0.0298,  ...,  0.0136, -0.0235,  0.0057],\n",
              "                      [-0.0045,  0.0327, -0.0154,  ..., -0.0270,  0.0095,  0.0301]])),\n",
              "             ('linear.bias',\n",
              "              tensor([-0.0157,  0.0266,  0.0042, -0.0350, -0.0006,  0.0015,  0.0140,  0.0057,\n",
              "                      -0.0151, -0.0013]))])"
            ]
          },
          "metadata": {
            "tags": []
          },
          "execution_count": 51
        }
      ]
    },
    {
      "cell_type": "code",
      "metadata": {
        "colab": {
          "base_uri": "https://localhost:8080/"
        },
        "id": "W8W1lf6TCWZm",
        "outputId": "a1422e0b-8340-4f62-ace0-e9df76299da7"
      },
      "source": [
        "evaluate(model2, test_loader)"
      ],
      "execution_count": 52,
      "outputs": [
        {
          "output_type": "execute_result",
          "data": {
            "text/plain": [
              "{'val_acc': 0.15679414570331573, 'val_loss': 2.2829439640045166}"
            ]
          },
          "metadata": {
            "tags": []
          },
          "execution_count": 52
        }
      ]
    },
    {
      "cell_type": "code",
      "metadata": {
        "colab": {
          "base_uri": "https://localhost:8080/"
        },
        "id": "Hq9DdW-lCd2p",
        "outputId": "3ce14340-2ed6-4703-a13f-e5ae8a7def77"
      },
      "source": [
        "model2.load_state_dict(torch.load('qmnist-logistic.pth'))\n",
        "model2.state_dict()"
      ],
      "execution_count": null,
      "outputs": [
        {
          "output_type": "execute_result",
          "data": {
            "text/plain": [
              "OrderedDict([('linear.weight',\n",
              "              tensor([[-0.0202, -0.0081,  0.0320,  ..., -0.0296, -0.0079, -0.0008],\n",
              "                      [ 0.0074,  0.0045,  0.0352,  ...,  0.0153, -0.0327,  0.0140],\n",
              "                      [ 0.0323,  0.0062,  0.0193,  ...,  0.0335,  0.0097,  0.0103],\n",
              "                      ...,\n",
              "                      [-0.0081,  0.0135, -0.0011,  ...,  0.0335, -0.0246,  0.0128],\n",
              "                      [-0.0279,  0.0305, -0.0195,  ...,  0.0022,  0.0078,  0.0026],\n",
              "                      [-0.0012, -0.0306, -0.0103,  ...,  0.0216, -0.0041,  0.0069]])),\n",
              "             ('linear.bias',\n",
              "              tensor([-0.0812,  0.1587, -0.0396, -0.0338,  0.0138,  0.1235, -0.0155,  0.0568,\n",
              "                      -0.1838, -0.0139]))])"
            ]
          },
          "metadata": {
            "tags": []
          },
          "execution_count": 78
        }
      ]
    },
    {
      "cell_type": "code",
      "metadata": {
        "id": "OqyRr0CeCiy0",
        "colab": {
          "base_uri": "https://localhost:8080/"
        },
        "outputId": "c5ebe277-46a0-4323-86f7-128033c35892"
      },
      "source": [
        "test_loader = DataLoader(test_dataset, batch_size=256)\n",
        "result = evaluate(model2, test_loader)\n",
        "result"
      ],
      "execution_count": 53,
      "outputs": [
        {
          "output_type": "execute_result",
          "data": {
            "text/plain": [
              "{'val_acc': 0.1568373292684555, 'val_loss': 2.282867670059204}"
            ]
          },
          "metadata": {
            "tags": []
          },
          "execution_count": 53
        }
      ]
    },
    {
      "cell_type": "code",
      "metadata": {
        "id": "IIMaaNFPvYbp"
      },
      "source": [
        ""
      ],
      "execution_count": null,
      "outputs": []
    }
  ]
}